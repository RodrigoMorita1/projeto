{
 "cells": [
  {
   "cell_type": "code",
   "execution_count": 9,
   "id": "b4143b92",
   "metadata": {},
   "outputs": [],
   "source": [
    "import seaborn as sns\n",
    "import matplotlib.pyplot as plt\n",
    "import pandas as pd"
   ]
  },
  {
   "cell_type": "code",
   "execution_count": 10,
   "id": "f11d2cc2",
   "metadata": {},
   "outputs": [
    {
     "data": {
      "text/html": [
       "<div>\n",
       "<style scoped>\n",
       "    .dataframe tbody tr th:only-of-type {\n",
       "        vertical-align: middle;\n",
       "    }\n",
       "\n",
       "    .dataframe tbody tr th {\n",
       "        vertical-align: top;\n",
       "    }\n",
       "\n",
       "    .dataframe thead th {\n",
       "        text-align: right;\n",
       "    }\n",
       "</style>\n",
       "<table border=\"1\" class=\"dataframe\">\n",
       "  <thead>\n",
       "    <tr style=\"text-align: right;\">\n",
       "      <th></th>\n",
       "      <th>nr_aluno</th>\n",
       "      <th>nome</th>\n",
       "      <th>apelido</th>\n",
       "      <th>curso</th>\n",
       "      <th>media_entrada</th>\n",
       "      <th>curso_concluido</th>\n",
       "      <th>media_final</th>\n",
       "    </tr>\n",
       "  </thead>\n",
       "  <tbody>\n",
       "    <tr>\n",
       "      <th>0</th>\n",
       "      <td>20031358</td>\n",
       "      <td>Leonardo</td>\n",
       "      <td>Pires</td>\n",
       "      <td>Psicologia</td>\n",
       "      <td>15</td>\n",
       "      <td>1</td>\n",
       "      <td>16.0</td>\n",
       "    </tr>\n",
       "    <tr>\n",
       "      <th>1</th>\n",
       "      <td>2022158</td>\n",
       "      <td>Raquel</td>\n",
       "      <td>Laranjeira</td>\n",
       "      <td>Informática</td>\n",
       "      <td>17</td>\n",
       "      <td>1</td>\n",
       "      <td>11.0</td>\n",
       "    </tr>\n",
       "    <tr>\n",
       "      <th>2</th>\n",
       "      <td>2003812</td>\n",
       "      <td>Anne</td>\n",
       "      <td>Silva</td>\n",
       "      <td>Informática</td>\n",
       "      <td>16</td>\n",
       "      <td>1</td>\n",
       "      <td>16.0</td>\n",
       "    </tr>\n",
       "    <tr>\n",
       "      <th>3</th>\n",
       "      <td>2022901</td>\n",
       "      <td>Patrícia</td>\n",
       "      <td>Castelo-Branco</td>\n",
       "      <td>Informática</td>\n",
       "      <td>11</td>\n",
       "      <td>1</td>\n",
       "      <td>17.0</td>\n",
       "    </tr>\n",
       "    <tr>\n",
       "      <th>4</th>\n",
       "      <td>2019303</td>\n",
       "      <td>Avelino</td>\n",
       "      <td>Sampaio</td>\n",
       "      <td>Comunicação</td>\n",
       "      <td>13</td>\n",
       "      <td>1</td>\n",
       "      <td>18.0</td>\n",
       "    </tr>\n",
       "    <tr>\n",
       "      <th>...</th>\n",
       "      <td>...</td>\n",
       "      <td>...</td>\n",
       "      <td>...</td>\n",
       "      <td>...</td>\n",
       "      <td>...</td>\n",
       "      <td>...</td>\n",
       "      <td>...</td>\n",
       "    </tr>\n",
       "    <tr>\n",
       "      <th>1726</th>\n",
       "      <td>2019869</td>\n",
       "      <td>Alice</td>\n",
       "      <td>Laranjeira</td>\n",
       "      <td>Informática</td>\n",
       "      <td>11</td>\n",
       "      <td>1</td>\n",
       "      <td>17.0</td>\n",
       "    </tr>\n",
       "    <tr>\n",
       "      <th>1727</th>\n",
       "      <td>20221093</td>\n",
       "      <td>Patrícia</td>\n",
       "      <td>Pereira</td>\n",
       "      <td>Comunicação</td>\n",
       "      <td>14</td>\n",
       "      <td>1</td>\n",
       "      <td>16.0</td>\n",
       "    </tr>\n",
       "    <tr>\n",
       "      <th>1728</th>\n",
       "      <td>20071160</td>\n",
       "      <td>Lucas</td>\n",
       "      <td>Capicua</td>\n",
       "      <td>Informática</td>\n",
       "      <td>12</td>\n",
       "      <td>1</td>\n",
       "      <td>20.0</td>\n",
       "    </tr>\n",
       "    <tr>\n",
       "      <th>1729</th>\n",
       "      <td>2020288</td>\n",
       "      <td>Pedro</td>\n",
       "      <td>Capicua</td>\n",
       "      <td>Comunicação</td>\n",
       "      <td>13</td>\n",
       "      <td>1</td>\n",
       "      <td>19.0</td>\n",
       "    </tr>\n",
       "    <tr>\n",
       "      <th>1730</th>\n",
       "      <td>2019163820</td>\n",
       "      <td>Diana</td>\n",
       "      <td>da Silva</td>\n",
       "      <td>Comunicação</td>\n",
       "      <td>13</td>\n",
       "      <td>1</td>\n",
       "      <td>18.0</td>\n",
       "    </tr>\n",
       "  </tbody>\n",
       "</table>\n",
       "<p>1731 rows × 7 columns</p>\n",
       "</div>"
      ],
      "text/plain": [
       "        nr_aluno      nome         apelido        curso  media_entrada  \\\n",
       "0       20031358  Leonardo           Pires   Psicologia             15   \n",
       "1        2022158    Raquel      Laranjeira  Informática             17   \n",
       "2        2003812      Anne           Silva  Informática             16   \n",
       "3        2022901  Patrícia  Castelo-Branco  Informática             11   \n",
       "4        2019303   Avelino         Sampaio  Comunicação             13   \n",
       "...          ...       ...             ...          ...            ...   \n",
       "1726     2019869     Alice      Laranjeira  Informática             11   \n",
       "1727    20221093  Patrícia         Pereira  Comunicação             14   \n",
       "1728    20071160     Lucas         Capicua  Informática             12   \n",
       "1729     2020288     Pedro         Capicua  Comunicação             13   \n",
       "1730  2019163820     Diana        da Silva  Comunicação             13   \n",
       "\n",
       "      curso_concluido  media_final  \n",
       "0                   1         16.0  \n",
       "1                   1         11.0  \n",
       "2                   1         16.0  \n",
       "3                   1         17.0  \n",
       "4                   1         18.0  \n",
       "...               ...          ...  \n",
       "1726                1         17.0  \n",
       "1727                1         16.0  \n",
       "1728                1         20.0  \n",
       "1729                1         19.0  \n",
       "1730                1         18.0  \n",
       "\n",
       "[1731 rows x 7 columns]"
      ]
     },
     "execution_count": 10,
     "metadata": {},
     "output_type": "execute_result"
    }
   ],
   "source": [
    "dados = pd.read_csv('fase1.csv')\n",
    "dados"
   ]
  },
  {
   "cell_type": "code",
   "execution_count": 30,
   "id": "41013cae",
   "metadata": {},
   "outputs": [],
   "source": [
    "#PRIMEIRA FASE\n",
    "# Para começar o trabalho, o Cientista de Dados quer-se dedicar à seguinte pergunta: \n",
    "# Existe alguma relação entre a média de entrada na licenciatura e a média de conclusão da licenciatura?"
   ]
  },
  {
   "cell_type": "code",
   "execution_count": 31,
   "id": "71c0f899",
   "metadata": {},
   "outputs": [
    {
     "name": "stdout",
     "output_type": "stream",
     "text": [
      "Existem valores acima de 20 ou abaixo de zero na média final: True\n",
      "Existem valores acima de 20 ou abaixo de zero na média de entrada: True\n"
     ]
    }
   ],
   "source": [
    "# Verificar se existem valores acima de 20 ou abaixo de zero na média final\n",
    "valores_invalidos_final = ((dados['media_final'] > 20) | (dados['media_final'] < 0)).any()\n",
    "\n",
    "# Verificar se existem valores acima de 20 ou abaixo de zero na média de entrada\n",
    "valores_invalidos_entrada = ((dados['media_entrada'] > 20) | (dados['media_entrada'] < 0)).any()\n",
    "\n",
    "# Exibir os resultados\n",
    "print(\"Existem valores acima de 20 ou abaixo de zero na média final:\", valores_invalidos_final)\n",
    "print(\"Existem valores acima de 20 ou abaixo de zero na média de entrada:\", valores_invalidos_entrada)"
   ]
  },
  {
   "cell_type": "code",
   "execution_count": 12,
   "id": "e4ebdeb6",
   "metadata": {},
   "outputs": [
    {
     "name": "stdout",
     "output_type": "stream",
     "text": [
      "Correlação entre média de entrada e média final: -0.8057373456592872\n"
     ]
    }
   ],
   "source": [
    "# Calcular a correlação entre 'media_entrada' e 'media_final'\n",
    "correlacao = dados['media_entrada'].corr(dados['media_final'])\n",
    "\n",
    "# Imprimir a correlação\n",
    "print(\"Correlação entre média de entrada e média final:\", correlacao)"
   ]
  },
  {
   "cell_type": "code",
   "execution_count": 14,
   "id": "623a9eb0",
   "metadata": {},
   "outputs": [
    {
     "data": {
      "image/png": "[encoded data removed]",
      "text/plain": [
       "<Figure size 800x600 with 1 Axes>"
      ]
     },
     "metadata": {},
     "output_type": "display_data"
    }
   ],
   "source": [
    "# Criar um boxplot para a média de entrada\n",
    "plt.figure(figsize=(8, 6))\n",
    "sns.boxplot(x='media_entrada', data=dados, color='skyblue')\n",
    "plt.title('Boxplot da Média de Entrada')\n",
    "plt.xlabel('Média de Entrada')\n",
    "plt.show()\n"
   ]
  },
  {
   "cell_type": "code",
   "execution_count": 15,
   "id": "28457335",
   "metadata": {},
   "outputs": [
    {
     "data": {
      "image/png": "[encoded data removed]",
      "text/plain": [
       "<Figure size 800x600 with 1 Axes>"
      ]
     },
     "metadata": {},
     "output_type": "display_data"
    }
   ],
   "source": [
    "plt.figure(figsize=(8, 6))\n",
    "sns.boxplot(x='media_final', data=dados, color='salmon')\n",
    "plt.title('Boxplot da Média Final')\n",
    "plt.xlabel('Média Final')\n",
    "plt.show()"
   ]
  },
  {
   "cell_type": "code",
   "execution_count": 17,
   "id": "f362f60a",
   "metadata": {},
   "outputs": [],
   "source": [
    "# Calcular o intervalo interquartil (IQR) para a média de entrada\n",
    "Q1_entrada = dados['media_entrada'].quantile(0.25)\n",
    "Q3_entrada = dados['media_entrada'].quantile(0.75)\n",
    "IQR_entrada = Q3_entrada - Q1_entrada\n",
    "\n",
    "# Calcular os limites superior e inferior para identificar outliers\n",
    "limite_inferior_entrada = Q1_entrada - 1.5 * IQR_entrada\n",
    "limite_superior_entrada = Q3_entrada + 1.5 * IQR_entrada\n",
    "\n",
    "# Selecionar os outliers para a média de entrada\n",
    "outliers_entrada = dados[(dados['media_entrada'] < limite_inferior_entrada) | (dados['media_entrada'] > limite_superior_entrada)]"
   ]
  },
  {
   "cell_type": "code",
   "execution_count": 18,
   "id": "8ae2a5a8",
   "metadata": {},
   "outputs": [
    {
     "name": "stdout",
     "output_type": "stream",
     "text": [
      "Outliers para a média de entrada:\n",
      "    nr_aluno           nome     apelido        curso  media_entrada\n",
      "25   2003594  Michaelangelo  Laranjeira  Comunicação              0\n",
      "58  20201046         Miguel       Silva   Psicologia             -1\n",
      "64   2019514          Diana     Sampaio  Informática             -2\n"
     ]
    }
   ],
   "source": [
    "print(\"Outliers para a média de entrada:\")\n",
    "print(outliers_entrada[['nr_aluno', 'nome', 'apelido', 'curso', 'media_entrada']])"
   ]
  },
  {
   "cell_type": "code",
   "execution_count": 20,
   "id": "6608d25f",
   "metadata": {},
   "outputs": [],
   "source": [
    "# Calcular o intervalo interquartil (IQR) para a média final\n",
    "Q1_final = dados['media_final'].quantile(0.25)\n",
    "Q3_final = dados['media_final'].quantile(0.75)\n",
    "IQR_final = Q3_final - Q1_final\n",
    "\n",
    "# Calcular os limites superior e inferior para identificar outliers\n",
    "limite_inferior_final = Q1_final - 1.5 * IQR_final\n",
    "limite_superior_final = Q3_final + 1.5 * IQR_final\n",
    "\n",
    "# Selecionar os outliers para a média final\n",
    "outliers_final = dados[(dados['media_final'] < limite_inferior_final) | (dados['media_final'] > limite_superior_final)]\n"
   ]
  },
  {
   "cell_type": "code",
   "execution_count": 21,
   "id": "4026f4ba",
   "metadata": {},
   "outputs": [
    {
     "name": "stdout",
     "output_type": "stream",
     "text": [
      "\n",
      "Outliers para a média final:\n",
      "    nr_aluno    nome   apelido        curso  media_final\n",
      "35    202245     Rui     Pires  Informática         -2.0\n",
      "38   2007469    Nuno  da Silva   Psicologia         -1.0\n",
      "41  20071679   Jorge   Sampaio  Comunicação         -1.0\n",
      "46  20211328     Ana   Sampaio  Informática         -1.0\n",
      "57   2007691  Miguel     Silva  Informática         -2.0\n",
      "59  20221456   Lucas     Silva  Informática         -1.0\n"
     ]
    }
   ],
   "source": [
    "print(\"\\nOutliers para a média final:\")\n",
    "print(outliers_final[['nr_aluno', 'nome', 'apelido', 'curso', 'media_final']])"
   ]
  },
  {
   "cell_type": "code",
   "execution_count": 28,
   "id": "61ca2ea9",
   "metadata": {},
   "outputs": [],
   "source": [
    "df_sem_outliers_entrada = dados[(dados['media_entrada'] >= limite_inferior_entrada) & (dados['media_entrada'] <= limite_superior_entrada)]\n",
    "df_sem_outliers_final = df_sem_outliers_entrada[(df_sem_outliers_entrada['media_final'] >= limite_inferior_final) & (df_sem_outliers_entrada['media_final'] <= limite_superior_final)]"
   ]
  },
  {
   "cell_type": "code",
   "execution_count": 29,
   "id": "69880b38",
   "metadata": {},
   "outputs": [
    {
     "name": "stdout",
     "output_type": "stream",
     "text": [
      "        nr_aluno      nome         apelido        curso  media_entrada  \\\n",
      "0       20031358  Leonardo           Pires   Psicologia             15   \n",
      "1        2022158    Raquel      Laranjeira  Informática             17   \n",
      "2        2003812      Anne           Silva  Informática             16   \n",
      "3        2022901  Patrícia  Castelo-Branco  Informática             11   \n",
      "4        2019303   Avelino         Sampaio  Comunicação             13   \n",
      "...          ...       ...             ...          ...            ...   \n",
      "1726     2019869     Alice      Laranjeira  Informática             11   \n",
      "1727    20221093  Patrícia         Pereira  Comunicação             14   \n",
      "1728    20071160     Lucas         Capicua  Informática             12   \n",
      "1729     2020288     Pedro         Capicua  Comunicação             13   \n",
      "1730  2019163820     Diana        da Silva  Comunicação             13   \n",
      "\n",
      "      curso_concluido  media_final  \n",
      "0                   1         16.0  \n",
      "1                   1         11.0  \n",
      "2                   1         16.0  \n",
      "3                   1         17.0  \n",
      "4                   1         18.0  \n",
      "...               ...          ...  \n",
      "1726                1         17.0  \n",
      "1727                1         16.0  \n",
      "1728                1         20.0  \n",
      "1729                1         19.0  \n",
      "1730                1         18.0  \n",
      "\n",
      "[1722 rows x 7 columns]\n"
     ]
    }
   ],
   "source": [
    "print(df_sem_outliers_final)"
   ]
  },
  {
   "cell_type": "code",
   "execution_count": 32,
   "id": "f5617d7c",
   "metadata": {},
   "outputs": [],
   "source": [
    "df_sem_outliers_final.to_csv('dados_limpos.csv', index=False)"
   ]
  },
  {
   "cell_type": "code",
   "execution_count": null,
   "id": "b40824fd",
   "metadata": {},
   "outputs": [],
   "source": []
  }
 ],
 "metadata": {
  "kernelspec": {
   "display_name": "Python 3 (ipykernel)",
   "language": "python",
   "name": "python3"
  },
  "language_info": {
   "codemirror_mode": {
    "name": "ipython",
    "version": 3
   },
   "file_extension": ".py",
   "mimetype": "text/x-python",
   "name": "python",
   "nbconvert_exporter": "python",
   "pygments_lexer": "ipython3",
   "version": "3.11.5"
  }
 },
 "nbformat": 4,
 "nbformat_minor": 5
}
